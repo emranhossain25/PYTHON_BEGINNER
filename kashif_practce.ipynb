{
 "cells": [
  {
   "cell_type": "code",
   "execution_count": 2,
   "metadata": {},
   "outputs": [
    {
     "name": "stdout",
     "output_type": "stream",
     "text": [
      "the power of 32\n"
     ]
    }
   ],
   "source": [
    "\n",
    "x=int(input())\n",
    "n=int(input())\n",
    "print(f\"the power of {x**n}\")"
   ]
  },
  {
   "cell_type": "code",
   "execution_count": 6,
   "metadata": {},
   "outputs": [
    {
     "name": "stdout",
     "output_type": "stream",
     "text": [
      "average of three student = 4.333333333333333\n"
     ]
    }
   ],
   "source": [
    "marks=[int(i) for i in input().split()]\n",
    "print(f\"average of three student = {sum(marks)/len(marks)}\")"
   ]
  },
  {
   "cell_type": "code",
   "execution_count": 5,
   "metadata": {},
   "outputs": [
    {
     "name": "stdout",
     "output_type": "stream",
     "text": [
      "no common difference\n"
     ]
    }
   ],
   "source": [
    "ap=[int(i) for i in input().split()]\n",
    "d=ap[1]-ap[0]\n",
    "for i in range(2,len(ap)-1):\n",
    "    if d!=(ap[i+1]-ap[i]):\n",
    "        print(\"no common difference\")\n",
    "        break\n",
    "else:\n",
    "    print(f\"Common differnce = {d}\")"
   ]
  },
  {
   "cell_type": "code",
   "execution_count": 8,
   "metadata": {},
   "outputs": [
    {
     "name": "stdout",
     "output_type": "stream",
     "text": [
      "sum is f2\n",
      "sum is f0\n",
      "sum is f2.0\n",
      "sum is f5\n",
      "sum is f1\n"
     ]
    }
   ],
   "source": [
    "values=[int(i) for i in input().split()]\n",
    "i=0\n",
    "while i<len(values):\n",
    "    if values[i]==1:\n",
    "        print(f\"sum is f{values[i+1]+values[i+2]}\")\n",
    "\n",
    "    if values[i]==2:\n",
    "        print(f\"sum is f{values[i+1]-values[i+2]}\")\n",
    "\n",
    "    if values[i]==3:\n",
    "        print(f\"sum is f{values[i+1]*values[i+2]}\")\n",
    "\n",
    "    if values[i]==4:\n",
    "        print(f\"sum is f{values[i+1]/values[i+2]}\")\n",
    "\n",
    "    if values[i]==5:\n",
    "        print(f\"sum is f{values[i+1]%values[i+2]}\")\n",
    "\n",
    "    if values[i]==6:\n",
    "        exit\n",
    "\n",
    "    i+=2\n",
    "\n",
    "\n"
   ]
  },
  {
   "cell_type": "code",
   "execution_count": 12,
   "metadata": {},
   "outputs": [
    {
     "name": "stdout",
     "output_type": "stream",
     "text": [
      "reverse number= 321\n"
     ]
    }
   ],
   "source": [
    "n=int(input(\"Enter the number=\"))\n",
    "sum1=0\n",
    "while n>0:\n",
    "    sum1=sum1*10+(n%10)\n",
    "    n=n//10\n",
    "print(f\"reverse number= {sum1}\")"
   ]
  },
  {
   "cell_type": "code",
   "execution_count": 15,
   "metadata": {},
   "outputs": [
    {
     "data": {
      "text/plain": [
       "False"
      ]
     },
     "execution_count": 15,
     "metadata": {},
     "output_type": "execute_result"
    }
   ],
   "source": [
    "def reversenumber(no):\n",
    "    sum1=0\n",
    "    while no>0:\n",
    "        sum1=sum1*10+(no%10)\n",
    "        no=no//10\n",
    "    return sum1\n",
    "\n",
    "def ispalindrome(no):\n",
    "    if no==reversenumber(no):\n",
    "        return True\n",
    "    else:\n",
    "        return False\n",
    "\n",
    "ispalindrome(int(input(\"Enter the number=\")))\n",
    "\n",
    "\n"
   ]
  },
  {
   "cell_type": "code",
   "execution_count": 23,
   "metadata": {},
   "outputs": [
    {
     "name": "stdout",
     "output_type": "stream",
     "text": [
      "even 8 \n",
      "odd 15\n"
     ]
    }
   ],
   "source": [
    "even=odd=0\n",
    "\n",
    "no=int(input())\n",
    "\n",
    "while no>0:\n",
    "    rem=no%10\n",
    "    if rem%2==0:\n",
    "        even+=rem\n",
    "    else:\n",
    "        odd+=rem\n",
    "    no//=10\n",
    "    \n",
    "\n",
    "print(f\"even {even} \\nodd {odd}\")"
   ]
  },
  {
   "cell_type": "code",
   "execution_count": 30,
   "metadata": {},
   "outputs": [
    {
     "name": "stdout",
     "output_type": "stream",
     "text": [
      "8\n"
     ]
    }
   ],
   "source": [
    "n=int(input(\"Enter the number=\"))\n",
    "x=0\n",
    "y=1\n",
    "while n>1:\n",
    "    z=x+y\n",
    "    x=y\n",
    "    y=z\n",
    "    n-=1\n",
    "else:\n",
    "    print(z)"
   ]
  }
 ],
 "metadata": {
  "interpreter": {
   "hash": "780a354d57c8e214d9717ce5db3cb79ec448e2663d29d7e7694b88eee37d2c96"
  },
  "kernelspec": {
   "display_name": "Python 3.10.0 64-bit",
   "language": "python",
   "name": "python3"
  },
  "language_info": {
   "codemirror_mode": {
    "name": "ipython",
    "version": 3
   },
   "file_extension": ".py",
   "mimetype": "text/x-python",
   "name": "python",
   "nbconvert_exporter": "python",
   "pygments_lexer": "ipython3",
   "version": "3.10.0"
  },
  "orig_nbformat": 4
 },
 "nbformat": 4,
 "nbformat_minor": 2
}
